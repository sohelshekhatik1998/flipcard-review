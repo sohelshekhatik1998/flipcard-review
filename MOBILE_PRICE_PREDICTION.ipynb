{
  "nbformat": 4,
  "nbformat_minor": 0,
  "metadata": {
    "colab": {
      "provenance": [],
      "authorship_tag": "ABX9TyNBDikOH0CtqPjieYxpSexM",
      "include_colab_link": true
    },
    "kernelspec": {
      "name": "python3",
      "display_name": "Python 3"
    },
    "language_info": {
      "name": "python"
    }
  },
  "cells": [
    {
      "cell_type": "markdown",
      "metadata": {
        "id": "view-in-github",
        "colab_type": "text"
      },
      "source": [
        "<a href=\"https://colab.research.google.com/github/sohelshekhatik1998/flipcard-review/blob/main/MOBILE_PRICE_PREDICTION.ipynb\" target=\"_parent\"><img src=\"https://colab.research.google.com/assets/colab-badge.svg\" alt=\"Open In Colab\"/></a>"
      ]
    },
    {
      "cell_type": "markdown",
      "source": [
        "In this data:\n",
        "id:ID\n",
        "\n",
        "battery_power:Total energy a battery can store in one time measured in mAh\n",
        "\n",
        "blue:Has bluetooth or not\n",
        "\n",
        "clock_speed:speed at which microprocessor executes instructions\n",
        "\n",
        "dual_sim:Has dual sim support or not\n",
        "\n",
        "fc:Front Camera mega pixels\n",
        "\n",
        "four_g:Has 4G or not\n",
        "\n",
        "int_memory:Internal Memory in Gigabytes\n",
        "\n",
        "m_dep:Mobile Depth in cm\n",
        "\n",
        "mobile_wt:Weight of mobile phone\n",
        "\n",
        "n_cores:Number of cores of processor\n",
        "\n",
        "pc:Primary Camera mega pixels\n",
        "\n",
        "px_height:Pixel Resolution Height\n",
        "\n",
        "px_width:Pixel Resolution Width\n",
        "\n",
        "ram:Random Access Memory in Megabytes\n",
        "\n",
        "sc_h:Screen Height of mobile in cm\n",
        "\n",
        "sc_w:Screen Width of mobile in cm\n",
        "\n",
        "talk_time:longest time that a single battery charge will last when you are\n",
        "\n",
        "three_g:Has 3G or not\n",
        "\n",
        "touch_screen:Has touch screen or not\n",
        "\n",
        "wifi:Has wifi or not"
      ],
      "metadata": {
        "id": "pkIgjqIY4Kkq"
      }
    },
    {
      "cell_type": "markdown",
      "source": [
        "USE:\n",
        "\n",
        "This kind of prediction will help companies estimate price of mobiles to give tough competion to other mobile manufacturer\n",
        "\n",
        "\n",
        "Also it will be usefull for Consumers to verify that they are paying best price for a mobile."
      ],
      "metadata": {
        "id": "Y3q3TOAn4sqz"
      }
    },
    {
      "cell_type": "markdown",
      "source": [
        "Linear Regression\n",
        "\n",
        "KNN\n",
        "\n",
        "Logistic Regression\n",
        "\n",
        "Decision tree\n",
        "\n",
        "Random forest"
      ],
      "metadata": {
        "id": "GtR8tFAN43My"
      }
    },
    {
      "cell_type": "code",
      "execution_count": 1,
      "metadata": {
        "id": "52R4euq_3icJ"
      },
      "outputs": [],
      "source": [
        "import pandas as pd\n",
        "import numpy as np\n",
        "import matplotlib.pyplot as plt\n",
        "import seaborn as sns\n",
        "%matplotlib inline"
      ]
    },
    {
      "cell_type": "markdown",
      "source": [
        "https://www.kaggle.com/code/vikramb/mobile-price-prediction"
      ],
      "metadata": {
        "id": "MTDdBmfBCCvB"
      }
    },
    {
      "cell_type": "code",
      "source": [
        "dataset=pd.read_csv('../input/train.csv')\n",
        "dataset.head()"
      ],
      "metadata": {
        "id": "6fstrtfu49J8"
      },
      "execution_count": null,
      "outputs": []
    },
    {
      "cell_type": "markdown",
      "source": [
        "## Data Analysis"
      ],
      "metadata": {
        "id": "yBSQZ7oL5HoF"
      }
    },
    {
      "cell_type": "code",
      "source": [
        "dataset.info()"
      ],
      "metadata": {
        "id": "AmJ5ID-o4_55"
      },
      "execution_count": null,
      "outputs": []
    },
    {
      "cell_type": "code",
      "source": [
        "dataset.describe()"
      ],
      "metadata": {
        "id": "2-NTgpW84_8o"
      },
      "execution_count": null,
      "outputs": []
    },
    {
      "cell_type": "markdown",
      "source": [
        "#Data Visualization & Analysis"
      ],
      "metadata": {
        "id": "g3sN7Ldb54hA"
      }
    },
    {
      "cell_type": "code",
      "source": [
        "sns.pairplot(dataset,hue='price_range')"
      ],
      "metadata": {
        "id": "K0AQ-e4A4__v"
      },
      "execution_count": null,
      "outputs": []
    },
    {
      "cell_type": "markdown",
      "source": [
        "How does ram is affected by price"
      ],
      "metadata": {
        "id": "7JErweMM6Edz"
      }
    },
    {
      "cell_type": "code",
      "source": [
        "sns.jointplot(x='ram',y='price_range',data=dataset,color='red',kind='kde');"
      ],
      "metadata": {
        "id": "nuMnqbzr5ACh"
      },
      "execution_count": null,
      "outputs": []
    },
    {
      "cell_type": "markdown",
      "source": [
        "Internal Memory vs Price Range"
      ],
      "metadata": {
        "id": "C4nps3Jt6Lqv"
      }
    },
    {
      "cell_type": "code",
      "source": [
        "sns.pointplot(y=\"int_memory\", x=\"price_range\", data=dataset)"
      ],
      "metadata": {
        "id": "j1uovq175AFS"
      },
      "execution_count": null,
      "outputs": []
    },
    {
      "cell_type": "markdown",
      "source": [
        "% of Phones which support 3G"
      ],
      "metadata": {
        "id": "aCUn1W5g6VHB"
      }
    },
    {
      "cell_type": "code",
      "source": [
        "labels = [\"3G-supported\",'Not supported']\n",
        "values=dataset['three_g'].value_counts().values"
      ],
      "metadata": {
        "id": "uyg9ulUi5AIU"
      },
      "execution_count": null,
      "outputs": []
    },
    {
      "cell_type": "code",
      "source": [
        "fig1, ax1 = plt.subplots()\n",
        "ax1.pie(values, labels=labels, autopct='%1.1f%%',shadow=True,startangle=90)\n",
        "plt.show()"
      ],
      "metadata": {
        "id": "X7TqiwBN5ALK"
      },
      "execution_count": null,
      "outputs": []
    },
    {
      "cell_type": "markdown",
      "source": [
        "% of Phones which support 4G"
      ],
      "metadata": {
        "id": "tleZeJCT6eUD"
      }
    },
    {
      "cell_type": "code",
      "source": [
        "labels4g = [\"4G-supported\",'Not supported']\n",
        "values4g = dataset['four_g'].value_counts().values\n",
        "fig1, ax1 = plt.subplots()\n",
        "ax1.pie(values4g, labels=labels4g, autopct='%1.1f%%',shadow=True,startangle=90)\n",
        "plt.show()"
      ],
      "metadata": {
        "id": "nKGyV7i65AOK"
      },
      "execution_count": null,
      "outputs": []
    },
    {
      "cell_type": "markdown",
      "source": [
        "Battery power vs Price Range"
      ],
      "metadata": {
        "id": "GQ2IEZm-6lIA"
      }
    },
    {
      "cell_type": "code",
      "source": [
        "sns.boxplot(x=\"price_range\", y=\"battery_power\", data=dataset)"
      ],
      "metadata": {
        "id": "awJbRjMX5AQ-"
      },
      "execution_count": null,
      "outputs": []
    },
    {
      "cell_type": "markdown",
      "source": [
        "No of Phones vs Camera megapixels of front and primary camera"
      ],
      "metadata": {
        "id": "WDA-Eom961nH"
      }
    },
    {
      "cell_type": "code",
      "source": [
        "plt.figure(figsize=(10,6))\n",
        "dataset['fc'].hist(alpha=0.5,color='blue',label='Front camera')\n",
        "dataset['pc'].hist(alpha=0.5,color='red',label='Primary camera')\n",
        "plt.legend()\n",
        "plt.xlabel('MegaPixels')"
      ],
      "metadata": {
        "id": "-SytJieW5AUF"
      },
      "execution_count": null,
      "outputs": []
    },
    {
      "cell_type": "markdown",
      "source": [
        "Mobile Weght vs Price range"
      ],
      "metadata": {
        "id": "3pFsnF2p6_I3"
      }
    },
    {
      "cell_type": "code",
      "source": [
        "sns.jointplot(x='mobile_wt',y='price_range',data=dataset,kind='kde');"
      ],
      "metadata": {
        "id": "HFL6TL-d5AWl"
      },
      "execution_count": null,
      "outputs": []
    },
    {
      "cell_type": "markdown",
      "source": [
        "Talk time vs Price range"
      ],
      "metadata": {
        "id": "4KUn5b6y7G9M"
      }
    },
    {
      "cell_type": "code",
      "source": [
        "sns.pointplot(y=\"talk_time\", x=\"price_range\", data=dataset)"
      ],
      "metadata": {
        "id": "C-wzFNrT5AZw"
      },
      "execution_count": null,
      "outputs": []
    },
    {
      "cell_type": "markdown",
      "source": [
        "X & Y array"
      ],
      "metadata": {
        "id": "jaCsjKU-7MrQ"
      }
    },
    {
      "cell_type": "code",
      "source": [
        "X=dataset.drop('price_range',axis=1)"
      ],
      "metadata": {
        "id": "auYUoH3I5AdU"
      },
      "execution_count": null,
      "outputs": []
    },
    {
      "cell_type": "code",
      "source": [
        "y=dataset['price_range']"
      ],
      "metadata": {
        "id": "39Q9oStM7QGU"
      },
      "execution_count": null,
      "outputs": []
    },
    {
      "cell_type": "markdown",
      "source": [
        "Splitting the data"
      ],
      "metadata": {
        "id": "tF1ZY0mV7VfG"
      }
    },
    {
      "cell_type": "code",
      "source": [
        "from sklearn.model_selection import train_test_split"
      ],
      "metadata": {
        "id": "HPqi9urH7QI_"
      },
      "execution_count": null,
      "outputs": []
    },
    {
      "cell_type": "code",
      "source": [
        "X_train, X_test, y_train, y_test = train_test_split(X, y, test_size=0.33, random_state=101)"
      ],
      "metadata": {
        "id": "fU0_uTdy7QM9"
      },
      "execution_count": null,
      "outputs": []
    },
    {
      "cell_type": "markdown",
      "source": [
        "Creating & Training Linear Regression Model"
      ],
      "metadata": {
        "id": "kJmmw7rq7gc0"
      }
    },
    {
      "cell_type": "code",
      "source": [
        "from sklearn.linear_model import LinearRegression\n",
        "lm = LinearRegression()"
      ],
      "metadata": {
        "id": "awjOE7IZ7QQD"
      },
      "execution_count": null,
      "outputs": []
    },
    {
      "cell_type": "code",
      "source": [
        "lm.fit(X_train,y_train)"
      ],
      "metadata": {
        "id": "FLaMZkbJ7QSM"
      },
      "execution_count": null,
      "outputs": []
    },
    {
      "cell_type": "code",
      "source": [
        "lm.score(X_test,y_test)"
      ],
      "metadata": {
        "id": "CUhbtIlm7QVF"
      },
      "execution_count": null,
      "outputs": []
    },
    {
      "cell_type": "markdown",
      "source": [
        "Creating & Training KNN Model"
      ],
      "metadata": {
        "id": "rMcQPRCN7wC5"
      }
    },
    {
      "cell_type": "code",
      "source": [
        "from sklearn.neighbors import KNeighborsClassifier\n",
        "knn = KNeighborsClassifier(n_neighbors=10)\n",
        "knn.fit(X_train,y_train)"
      ],
      "metadata": {
        "id": "te2GcJ-y7QXM"
      },
      "execution_count": null,
      "outputs": []
    },
    {
      "cell_type": "code",
      "source": [
        "knn.score(X_test,y_test)"
      ],
      "metadata": {
        "id": "rqf_6vHF7QZ2"
      },
      "execution_count": null,
      "outputs": []
    },
    {
      "cell_type": "markdown",
      "source": [
        "Elbow Method For optimum value of K"
      ],
      "metadata": {
        "id": "51VWA-dN75xy"
      }
    },
    {
      "cell_type": "code",
      "source": [
        "error_rate = []\n",
        "for i in range(1,20):\n",
        "    \n",
        "    knn = KNeighborsClassifier(n_neighbors=i)\n",
        "    knn.fit(X_train,y_train)\n",
        "    pred_i = knn.predict(X_test)\n",
        "    error_rate.append(np.mean(pred_i != y_test))"
      ],
      "metadata": {
        "id": "pEO0hDJa7Qcb"
      },
      "execution_count": null,
      "outputs": []
    },
    {
      "cell_type": "code",
      "source": [
        "plt.figure(figsize=(10,6))\n",
        "plt.plot(range(1,20),error_rate,color='blue', linestyle='dashed', marker='o',\n",
        "         markerfacecolor='red', markersize=5)\n",
        "plt.title('Error Rate vs. K Value')\n",
        "plt.xlabel('K')\n",
        "plt.ylabel('Error Rate')"
      ],
      "metadata": {
        "id": "sHHwejyB7Qfi"
      },
      "execution_count": null,
      "outputs": []
    },
    {
      "cell_type": "markdown",
      "source": [
        "Creating & Training Logistic Regression Model"
      ],
      "metadata": {
        "id": "zWlZa3398CiO"
      }
    },
    {
      "cell_type": "code",
      "source": [
        "from sklearn.linear_model import LogisticRegression\n",
        "logmodel = LogisticRegression()"
      ],
      "metadata": {
        "id": "Ia0K_fj87Qi2"
      },
      "execution_count": null,
      "outputs": []
    },
    {
      "cell_type": "code",
      "source": [
        "logmodel.fit(X_train,y_train)"
      ],
      "metadata": {
        "id": "4bag4-LU8GI5"
      },
      "execution_count": null,
      "outputs": []
    },
    {
      "cell_type": "code",
      "source": [
        "logmodel.score(X_test,y_test)"
      ],
      "metadata": {
        "id": "YMEQhjDW8GLl"
      },
      "execution_count": null,
      "outputs": []
    },
    {
      "cell_type": "markdown",
      "source": [
        "Creating & Training Decision Tree Model"
      ],
      "metadata": {
        "id": "qAlXWsrg8O6m"
      }
    },
    {
      "cell_type": "code",
      "source": [
        "from sklearn.tree import DecisionTreeClassifier\n",
        "dtree = DecisionTreeClassifier()"
      ],
      "metadata": {
        "id": "MpFclKFw8GOW"
      },
      "execution_count": null,
      "outputs": []
    },
    {
      "cell_type": "code",
      "source": [
        "dtree.fit(X_train,y_train)"
      ],
      "metadata": {
        "id": "pMN5qR0x8GQ1"
      },
      "execution_count": null,
      "outputs": []
    },
    {
      "cell_type": "code",
      "source": [
        "dtree.score(X_test,y_test)"
      ],
      "metadata": {
        "id": "Pg7CxoPp8GTV"
      },
      "execution_count": null,
      "outputs": []
    },
    {
      "cell_type": "markdown",
      "source": [
        "Tree Visualization"
      ],
      "metadata": {
        "id": "qUe-zfFn8bu8"
      }
    },
    {
      "cell_type": "code",
      "source": [
        "feature_names=['battery_power', 'blue', 'clock_speed', 'dual_sim', 'fc', 'four_g',\n",
        "       'int_memory', 'm_dep', 'mobile_wt', 'n_cores', 'pc', 'px_height',\n",
        "       'px_width', 'ram', 'sc_h', 'sc_w', 'talk_time', 'three_g',\n",
        "       'touch_screen', 'wifi']\n"
      ],
      "metadata": {
        "id": "XwmeLAQE8GXB"
      },
      "execution_count": null,
      "outputs": []
    },
    {
      "cell_type": "markdown",
      "source": [
        "Creating & Training Random Tree Model"
      ],
      "metadata": {
        "id": "Svt04Fh28shQ"
      }
    },
    {
      "cell_type": "code",
      "source": [
        "from sklearn.ensemble import RandomForestClassifier\n",
        "rfc = RandomForestClassifier(n_estimators=200)\n",
        "rfc.fit(X_train, y_train)"
      ],
      "metadata": {
        "id": "ZFjV5yQb8GZT"
      },
      "execution_count": null,
      "outputs": []
    },
    {
      "cell_type": "code",
      "source": [
        "rfc.score(X_test,y_test)"
      ],
      "metadata": {
        "id": "UcqM5jkK8v6H"
      },
      "execution_count": null,
      "outputs": []
    },
    {
      "cell_type": "markdown",
      "source": [
        "Conclusion: KNN & Linear Regression performed the best"
      ],
      "metadata": {
        "id": "GAOK5U1y84Ix"
      }
    },
    {
      "cell_type": "markdown",
      "source": [
        "RESULT : Linear Regression"
      ],
      "metadata": {
        "id": "hv-8yfRO88lw"
      }
    },
    {
      "cell_type": "code",
      "source": [
        "y_pred=lm.predict(X_test)"
      ],
      "metadata": {
        "id": "3toqGw6H8v-I"
      },
      "execution_count": null,
      "outputs": []
    },
    {
      "cell_type": "code",
      "source": [
        "plt.scatter(y_test,y_pred)"
      ],
      "metadata": {
        "id": "jqacY9_b8wBJ"
      },
      "execution_count": null,
      "outputs": []
    },
    {
      "cell_type": "code",
      "source": [
        "plt.plot(y_test,y_pred)"
      ],
      "metadata": {
        "id": "V3hhbSti8wD0"
      },
      "execution_count": null,
      "outputs": []
    },
    {
      "cell_type": "markdown",
      "source": [
        "RESULT: KNN"
      ],
      "metadata": {
        "id": "j7hbe13d9Hzk"
      }
    },
    {
      "cell_type": "code",
      "source": [
        "from sklearn.metrics import classification_report,confusion_matrix"
      ],
      "metadata": {
        "id": "b5TmKP7b8wHH"
      },
      "execution_count": null,
      "outputs": []
    },
    {
      "cell_type": "code",
      "source": [
        "pred = knn.predict(X_test)"
      ],
      "metadata": {
        "id": "pnOWTh2l8wKV"
      },
      "execution_count": null,
      "outputs": []
    },
    {
      "cell_type": "code",
      "source": [
        "print(classification_report(y_test,pred))"
      ],
      "metadata": {
        "id": "rdWb1o-o9Mqb"
      },
      "execution_count": null,
      "outputs": []
    },
    {
      "cell_type": "code",
      "source": [
        "matrix=confusion_matrix(y_test,pred)\n",
        "print(matrix)"
      ],
      "metadata": {
        "id": "oLbw5cJa9MtN"
      },
      "execution_count": null,
      "outputs": []
    },
    {
      "cell_type": "code",
      "source": [
        "plt.figure(figsize = (10,7))\n",
        "sns.heatmap(matrix,annot=True)"
      ],
      "metadata": {
        "id": "7bM4b8n-9MwP"
      },
      "execution_count": null,
      "outputs": []
    },
    {
      "cell_type": "markdown",
      "source": [
        "Price prediction of Test.csv Using KNN for Prediction\n",
        "\n",
        "\n",
        "\n",
        "Import test.csv"
      ],
      "metadata": {
        "id": "2MXVuKHV9YRs"
      }
    },
    {
      "cell_type": "code",
      "source": [
        "data_test=pd.read_csv('../input/test.csv')"
      ],
      "metadata": {
        "id": "aOmzP8179Mzk"
      },
      "execution_count": null,
      "outputs": []
    },
    {
      "cell_type": "code",
      "source": [
        "data_test.head()"
      ],
      "metadata": {
        "id": "OE14584V9M2H"
      },
      "execution_count": null,
      "outputs": []
    },
    {
      "cell_type": "code",
      "source": [
        "data_test=data_test.drop('id',axis=1)"
      ],
      "metadata": {
        "id": "ITAMX4JM9M42"
      },
      "execution_count": null,
      "outputs": []
    },
    {
      "cell_type": "code",
      "source": [
        "data_test.head()"
      ],
      "metadata": {
        "id": "J7zOWoY_9M70"
      },
      "execution_count": null,
      "outputs": []
    },
    {
      "cell_type": "markdown",
      "source": [
        "Model\n"
      ],
      "metadata": {
        "id": "H5ivfDZY9n1J"
      }
    },
    {
      "cell_type": "code",
      "source": [
        "predicted_price=knn.predict(data_test)"
      ],
      "metadata": {
        "id": "yVGvMTr89M-f"
      },
      "execution_count": null,
      "outputs": []
    },
    {
      "cell_type": "markdown",
      "source": [
        "Predicted Price Range"
      ],
      "metadata": {
        "id": "wTQbFQxX93x-"
      }
    },
    {
      "cell_type": "code",
      "source": [
        "predicted_price"
      ],
      "metadata": {
        "id": "LN2ItTkV9NBu"
      },
      "execution_count": null,
      "outputs": []
    },
    {
      "cell_type": "markdown",
      "source": [
        "Adding Predicted price to test.csv"
      ],
      "metadata": {
        "id": "fb-AxMtI9_ts"
      }
    },
    {
      "cell_type": "code",
      "source": [
        "data_test['price_range']=predicted_price"
      ],
      "metadata": {
        "id": "n4giWEQZ8wNk"
      },
      "execution_count": null,
      "outputs": []
    },
    {
      "cell_type": "code",
      "source": [
        "data_test"
      ],
      "metadata": {
        "id": "UKFFUtlV8wPs"
      },
      "execution_count": null,
      "outputs": []
    }
  ]
}